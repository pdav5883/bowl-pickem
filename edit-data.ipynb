{
 "cells": [
  {
   "cell_type": "markdown",
   "id": "b62e46c9",
   "metadata": {},
   "source": [
    "# Edit data.json"
   ]
  },
  {
   "cell_type": "code",
   "execution_count": 1,
   "id": "ac6fc4a5",
   "metadata": {},
   "outputs": [],
   "source": [
    "import boto3\n",
    "import json"
   ]
  },
  {
   "cell_type": "code",
   "execution_count": 2,
   "id": "d81bc227",
   "metadata": {},
   "outputs": [],
   "source": [
    "s3 = boto3.client(\"s3\")\n",
    "obj_bucket = \"bowl-pickem-public\"\n",
    "obj_key = \"data/data.json\"\n",
    "local_path = \"data/data.json\""
   ]
  },
  {
   "cell_type": "markdown",
   "id": "c5291045",
   "metadata": {},
   "source": [
    "## Read from S3"
   ]
  },
  {
   "cell_type": "code",
   "execution_count": 3,
   "id": "85a6cba4",
   "metadata": {},
   "outputs": [],
   "source": [
    "data_s3 = s3.get_object(Bucket=obj_bucket, Key=obj_key)\n",
    "DATA = json.loads(data_s3[\"Body\"].read().decode(\"utf-8\"))"
   ]
  },
  {
   "cell_type": "markdown",
   "id": "e107e214",
   "metadata": {},
   "source": [
    "## Utils"
   ]
  },
  {
   "cell_type": "code",
   "execution_count": 20,
   "id": "ba6ba31c",
   "metadata": {},
   "outputs": [],
   "source": [
    "def print_years():\n",
    "    for yr in DATA.keys():\n",
    "        print(yr)\n",
    "        \n",
    "def print_games(year):\n",
    "    print(\"{} games\".format(year))\n",
    "    print(\"-----\")\n",
    "    for i, gm in enumerate(DATA[year][\"games\"]):\n",
    "        print(\"{}: {}\".format(i, gm[\"name\"]))\n",
    "    print(\"-----\")\n",
    "    \n",
    "def print_players(year):\n",
    "    print(\"{} players\".format(year))\n",
    "    print(\"-----\")\n",
    "    for i, pl in enumerate(DATA[year][\"players\"]):\n",
    "        print(\"{}: {}\".format(i, pl[\"name\"]))\n",
    "    print(\"-----\")\n",
    "        \n",
    "def print_game(year, ind):\n",
    "    game = DATA[year][\"games\"][ind]\n",
    "    \n",
    "    for key, val in game.items():\n",
    "        print(key, \":\", val)\n",
    "        \n",
    "def edit_game(year, ind, result, score):\n",
    "    game = DATA[year][\"games\"][ind]\n",
    "    game[\"result\"] = result\n",
    "    game[\"score\"] = score\n",
    "    \n",
    "    print_game(year, ind)\n",
    "    \n",
    "def add_year(new_year):\n",
    "    yr = {\"games\": [],\n",
    "          \"show_results\": False,\n",
    "          \"show_picks\": False,\n",
    "          \"lock_picks\": False,\n",
    "          \"players\": []}\n",
    "    DATA[new_year] = yr\n",
    "    print_games(new_year)\n",
    "    \n",
    "def add_game(year, name, teams, teams_short, date, bonus=0, result=None, score=list()):\n",
    "    new_game = {\"name\": name, \"teams\": teams, \"teams_short\": teams_short, \"date\": date, \"bonus\": bonus, \"result\": result, \"score\": score}\n",
    "    DATA[year][\"games\"].append(new_game)\n",
    "    print_games(year)\n",
    "    print_game(year, len(DATA[year][\"games\"]) - 1)"
   ]
  },
  {
   "cell_type": "markdown",
   "id": "c4a071fd",
   "metadata": {},
   "source": [
    "## Do Stuff"
   ]
  },
  {
   "cell_type": "code",
   "execution_count": null,
   "id": "1221f174",
   "metadata": {},
   "outputs": [],
   "source": []
  },
  {
   "cell_type": "markdown",
   "id": "2fc33b7b",
   "metadata": {},
   "source": [
    "## Write to S3"
   ]
  },
  {
   "cell_type": "code",
   "execution_count": 42,
   "id": "0cc6e301",
   "metadata": {},
   "outputs": [
    {
     "data": {
      "text/plain": [
       "{'ResponseMetadata': {'RequestId': 'W3K06NNK9A2W6PPK',\n",
       "  'HostId': '2Ps/0Dsqi7/OUtF42GXjOILLH/i7M8mfLKZwk6TguhXW6YY3bR1A3w1PAc3WQvB9GtADTK+f6vo=',\n",
       "  'HTTPStatusCode': 200,\n",
       "  'HTTPHeaders': {'x-amz-id-2': '2Ps/0Dsqi7/OUtF42GXjOILLH/i7M8mfLKZwk6TguhXW6YY3bR1A3w1PAc3WQvB9GtADTK+f6vo=',\n",
       "   'x-amz-request-id': 'W3K06NNK9A2W6PPK',\n",
       "   'date': 'Sat, 17 Dec 2022 02:40:57 GMT',\n",
       "   'etag': '\"16bc2d0be80b67729968df248c5840df\"',\n",
       "   'server': 'AmazonS3',\n",
       "   'content-length': '0'},\n",
       "  'RetryAttempts': 0},\n",
       " 'ETag': '\"16bc2d0be80b67729968df248c5840df\"'}"
      ]
     },
     "execution_count": 42,
     "metadata": {},
     "output_type": "execute_result"
    }
   ],
   "source": [
    "s3.put_object(Body=bytes(json.dumps(DATA, indent=2).encode('UTF-8')), Bucket=obj_bucket, Key=obj_key)"
   ]
  }
 ],
 "metadata": {
  "kernelspec": {
   "display_name": "Python 3 (ipykernel)",
   "language": "python",
   "name": "python3"
  },
  "language_info": {
   "codemirror_mode": {
    "name": "ipython",
    "version": 3
   },
   "file_extension": ".py",
   "mimetype": "text/x-python",
   "name": "python",
   "nbconvert_exporter": "python",
   "pygments_lexer": "ipython3",
   "version": "3.8.14"
  }
 },
 "nbformat": 4,
 "nbformat_minor": 5
}
