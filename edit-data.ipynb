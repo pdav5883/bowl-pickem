{
 "cells": [
  {
   "cell_type": "markdown",
   "id": "b62e46c9",
   "metadata": {},
   "source": [
    "# Edit data.json"
   ]
  },
  {
   "cell_type": "code",
   "execution_count": 1,
   "id": "ac6fc4a5",
   "metadata": {},
   "outputs": [],
   "source": [
    "import boto3\n",
    "import json"
   ]
  },
  {
   "cell_type": "code",
   "execution_count": 2,
   "id": "d81bc227",
   "metadata": {},
   "outputs": [],
   "source": [
    "s3 = boto3.client(\"s3\")\n",
    "obj_bucket = \"bowl-pickem-public\"\n",
    "obj_key = \"data/data.json\"\n",
    "local_path = \"data/data.json\""
   ]
  },
  {
   "cell_type": "markdown",
   "id": "c5291045",
   "metadata": {},
   "source": [
    "## Read from S3"
   ]
  },
  {
   "cell_type": "code",
   "execution_count": 3,
   "id": "85a6cba4",
   "metadata": {},
   "outputs": [],
   "source": [
    "data_s3 = s3.get_object(Bucket=obj_bucket, Key=obj_key)\n",
    "DATA = json.loads(data_s3[\"Body\"].read().decode(\"utf-8\"))"
   ]
  },
  {
   "cell_type": "markdown",
   "id": "e107e214",
   "metadata": {},
   "source": [
    "## Utils"
   ]
  },
  {
   "cell_type": "code",
   "execution_count": 124,
   "id": "ba6ba31c",
   "metadata": {},
   "outputs": [],
   "source": [
    "def print_years():\n",
    "    for yr in DATA.keys():\n",
    "        print(yr)\n",
    "        \n",
    "def print_games(year):\n",
    "    print(\"{} games\".format(year))\n",
    "    print(\"-----\")\n",
    "    for i, gm in enumerate(DATA[year][\"games\"]):\n",
    "        print(\"{}: {}\".format(i, gm[\"name\"]))\n",
    "    print(\"-----\")\n",
    "        \n",
    "def print_game(year, ind):\n",
    "    game = DATA[year][\"games\"][ind]\n",
    "    \n",
    "    for key, val in game.items():\n",
    "        print(key, \":\", val)\n",
    "        \n",
    "def edit_game(year, ind, result, score):\n",
    "    game = DATA[year][\"games\"][ind]\n",
    "    game[\"result\"] = result\n",
    "    game[\"score\"] = score\n",
    "    \n",
    "    print_game(year, ind)\n",
    "    \n",
    "def add_year(new_year):\n",
    "    yr = {\"games\": [],\n",
    "          \"show_results\": False,\n",
    "          \"show_picks\": False,\n",
    "          \"lock_picks\": False,\n",
    "          \"players\": []}\n",
    "    DATA[new_year] = yr\n",
    "    print_games(new_year)\n",
    "    \n",
    "def add_game(year, name, teams, teams_short, date, result=None, score=list()):\n",
    "    new_game = {\"name\": name, \"teams\": teams, \"teams_short\": teams_short, \"date\": date, \"result\": result, \"score\": score}\n",
    "    DATA[year][\"games\"].append(new_game)\n",
    "    print_games(year)\n",
    "    print_game(year, len(DATA[year][\"games\"]) - 1)"
   ]
  },
  {
   "cell_type": "markdown",
   "id": "c4a071fd",
   "metadata": {},
   "source": [
    "## Do Stuff"
   ]
  },
  {
   "cell_type": "code",
   "execution_count": 173,
   "id": "687f2957",
   "metadata": {},
   "outputs": [
    {
     "name": "stdout",
     "output_type": "stream",
     "text": [
      "2022 games\n",
      "-----\n",
      "0: Bahamas Bowl\n",
      "1: Cure Bowl\n",
      "2: Fenway Bowl\n",
      "3: Las Vegas Bowl\n",
      "4: LA Bowl\n",
      "5: LendingTree Bowl\n",
      "6: New Mexico Bowl\n",
      "7: Frisco Bowl\n",
      "8: Myrtle Beach Bowl\n",
      "9: Famous Idaho Potato Bowl\n",
      "10: Boca Raton Bowl\n",
      "11: New Orleans Bowl\n",
      "12: Armed Forces Bowl\n",
      "13: Independence Bowl\n",
      "14: Gasparilla Bowl\n",
      "15: Hawaii\n",
      "16: Quick Lane Bowl\n",
      "17: Camelia Bowl\n",
      "18: First Responder Bowl\n",
      "19: Birmingham Bowl\n",
      "20: Guaranteed Rate Bowl\n",
      "21: Military Bowl\n",
      "22: Liberty Bowl\n",
      "23: Holiday Bowl\n",
      "24: Texas Bowl\n",
      "25: Pinstripe Bowl\n",
      "26: Cheez-It Bowl\n",
      "27: Alamo Bowl\n",
      "28: Duke's Mayo Bowl\n",
      "29: Sun Bowl\n",
      "30: Gator Bowl\n",
      "31: Arizona Bowl\n",
      "32: Music City Bowl\n",
      "33: ReliaQuest Bowl\n",
      "34: Citrus Bowl\n",
      "35: Orange Bowl\n",
      "36: Sugar Bowl\n",
      "37: Cotton Bowl\n",
      "38: Rose Bowl\n",
      "39: Fiesta Bowl (Semi)\n",
      "40: Peach Bowl\n",
      "41: National Championship\n",
      "-----\n",
      "name : National Championship\n",
      "teams : ['MICH/TCU', 'UGA/OSU']\n",
      "teams_short : ['2/3', '1/4']\n",
      "date : [1, 9, 23]\n",
      "result : None\n",
      "score : []\n"
     ]
    }
   ],
   "source": [
    "add_game(\"2022\",\n",
    "        \"National Championship\",\n",
    "        [\"MICH/TCU\",\"UGA/OSU\"],\n",
    "        [\"2/3\",\"1/4\"],\n",
    "        [1,9,23])"
   ]
  },
  {
   "cell_type": "code",
   "execution_count": 176,
   "id": "f5840228",
   "metadata": {},
   "outputs": [
    {
     "name": "stdout",
     "output_type": "stream",
     "text": [
      "2022 games\n",
      "-----\n",
      "0: Bahamas Bowl\n",
      "1: Cure Bowl\n",
      "2: Fenway Bowl\n",
      "3: Las Vegas Bowl\n",
      "4: LA Bowl\n",
      "5: LendingTree Bowl\n",
      "6: New Mexico Bowl\n",
      "7: Frisco Bowl\n",
      "8: Myrtle Beach Bowl\n",
      "9: Famous Idaho Potato Bowl\n",
      "10: Boca Raton Bowl\n",
      "11: New Orleans Bowl\n",
      "12: Armed Forces Bowl\n",
      "13: Independence Bowl\n",
      "14: Gasparilla Bowl\n",
      "15: Hawaii\n",
      "16: Quick Lane Bowl\n",
      "17: Camelia Bowl\n",
      "18: First Responder Bowl\n",
      "19: Birmingham Bowl\n",
      "20: Guaranteed Rate Bowl\n",
      "21: Military Bowl\n",
      "22: Liberty Bowl\n",
      "23: Holiday Bowl\n",
      "24: Texas Bowl\n",
      "25: Pinstripe Bowl\n",
      "26: Cheez-It Bowl\n",
      "27: Alamo Bowl\n",
      "28: Duke's Mayo Bowl\n",
      "29: Sun Bowl\n",
      "30: Gator Bowl\n",
      "31: Arizona Bowl\n",
      "32: Music City Bowl\n",
      "33: ReliaQuest Bowl\n",
      "34: Citrus Bowl\n",
      "35: Orange Bowl\n",
      "36: Sugar Bowl\n",
      "37: Cotton Bowl\n",
      "38: Rose Bowl\n",
      "39: Fiesta Bowl (Semi)\n",
      "40: Peach Bowl (Semi)\n",
      "41: National Championship\n",
      "-----\n"
     ]
    }
   ],
   "source": [
    "print_games(\"2022\")"
   ]
  },
  {
   "cell_type": "code",
   "execution_count": 175,
   "id": "85dba97e",
   "metadata": {},
   "outputs": [],
   "source": [
    "DATA[\"2022\"][\"games\"][40][\"name\"] = \"Peach Bowl (Semi)\""
   ]
  },
  {
   "cell_type": "markdown",
   "id": "2fc33b7b",
   "metadata": {},
   "source": [
    "## Write to S3"
   ]
  },
  {
   "cell_type": "code",
   "execution_count": 177,
   "id": "0cc6e301",
   "metadata": {},
   "outputs": [
    {
     "data": {
      "text/plain": [
       "{'ResponseMetadata': {'RequestId': 'BB05N59R3KHN6FB2',\n",
       "  'HostId': 'xNjfDAW/d5fzdRitoJEraeDCCzShQxVsRi7qAIFgJ+rqhBqaaD1jz14mr1N/R0ftsjTNAmGt06XIwpGJr9KazA==',\n",
       "  'HTTPStatusCode': 200,\n",
       "  'HTTPHeaders': {'x-amz-id-2': 'xNjfDAW/d5fzdRitoJEraeDCCzShQxVsRi7qAIFgJ+rqhBqaaD1jz14mr1N/R0ftsjTNAmGt06XIwpGJr9KazA==',\n",
       "   'x-amz-request-id': 'BB05N59R3KHN6FB2',\n",
       "   'date': 'Tue, 06 Dec 2022 05:54:04 GMT',\n",
       "   'etag': '\"6d2067b8e30e64262401b4dad97249fe\"',\n",
       "   'server': 'AmazonS3',\n",
       "   'content-length': '0'},\n",
       "  'RetryAttempts': 0},\n",
       " 'ETag': '\"6d2067b8e30e64262401b4dad97249fe\"'}"
      ]
     },
     "execution_count": 177,
     "metadata": {},
     "output_type": "execute_result"
    }
   ],
   "source": [
    "s3.put_object(Body=bytes(json.dumps(DATA, indent=2).encode('UTF-8')), Bucket=obj_bucket, Key=obj_key)"
   ]
  }
 ],
 "metadata": {
  "kernelspec": {
   "display_name": "Python 3 (ipykernel)",
   "language": "python",
   "name": "python3"
  },
  "language_info": {
   "codemirror_mode": {
    "name": "ipython",
    "version": 3
   },
   "file_extension": ".py",
   "mimetype": "text/x-python",
   "name": "python",
   "nbconvert_exporter": "python",
   "pygments_lexer": "ipython3",
   "version": "3.8.14"
  }
 },
 "nbformat": 4,
 "nbformat_minor": 5
}
