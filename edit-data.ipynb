{
 "cells": [
  {
   "cell_type": "markdown",
   "id": "b62e46c9",
   "metadata": {},
   "source": [
    "# Edit data.json"
   ]
  },
  {
   "cell_type": "code",
   "execution_count": 1,
   "id": "ac6fc4a5",
   "metadata": {},
   "outputs": [],
   "source": [
    "import boto3\n",
    "import json"
   ]
  },
  {
   "cell_type": "code",
   "execution_count": 2,
   "id": "d81bc227",
   "metadata": {},
   "outputs": [],
   "source": [
    "s3 = boto3.client(\"s3\")\n",
    "obj_bucket = \"bowl-pickem-public\"\n",
    "obj_key = \"data/data.json\"\n",
    "local_path = \"data/data.json\""
   ]
  },
  {
   "cell_type": "markdown",
   "id": "c5291045",
   "metadata": {},
   "source": [
    "## Read from S3"
   ]
  },
  {
   "cell_type": "code",
   "execution_count": 3,
   "id": "85a6cba4",
   "metadata": {},
   "outputs": [],
   "source": [
    "data_s3 = s3.get_object(Bucket=obj_bucket, Key=obj_key)\n",
    "DATA = json.loads(data_s3[\"Body\"].read().decode(\"utf-8\"))"
   ]
  },
  {
   "cell_type": "markdown",
   "id": "e107e214",
   "metadata": {},
   "source": [
    "## Utils"
   ]
  },
  {
   "cell_type": "code",
   "execution_count": 4,
   "id": "ba6ba31c",
   "metadata": {},
   "outputs": [],
   "source": [
    "def print_years():\n",
    "    for yr in DATA.keys():\n",
    "        print(yr)\n",
    "        \n",
    "def print_games(year):\n",
    "    print(\"{} games\".format(year))\n",
    "    print(\"-----\")\n",
    "    for i, gm in enumerate(DATA[year][\"games\"]):\n",
    "        print(\"{}: {}\".format(i, gm[\"name\"]))\n",
    "    print(\"-----\")\n",
    "        \n",
    "def print_game(year, ind):\n",
    "    game = DATA[year][\"games\"][ind]\n",
    "    \n",
    "    for key, val in game.items():\n",
    "        print(key, \":\", val)\n",
    "        \n",
    "def edit_game(year, ind, result, score):\n",
    "    game = DATA[year][\"games\"][ind]\n",
    "    game[\"result\"] = result\n",
    "    game[\"score\"] = score\n",
    "    \n",
    "    print_game(year, ind)\n",
    "    \n",
    "def add_year(new_year):\n",
    "    yr = {\"games\": [],\n",
    "          \"show_results\": False,\n",
    "          \"show_picks\": False,\n",
    "          \"lock_picks\": False,\n",
    "          \"players\": []}\n",
    "    DATA[new_year] = yr\n",
    "    print_games(new_year)\n",
    "    \n",
    "def add_game(year, name, teams, teams_short, date, bonus=0, result=None, score=list()):\n",
    "    new_game = {\"name\": name, \"teams\": teams, \"teams_short\": teams_short, \"date\": date, \"bonus\": bonus, \"result\": result, \"score\": score}\n",
    "    DATA[year][\"games\"].append(new_game)\n",
    "    print_games(year)\n",
    "    print_game(year, len(DATA[year][\"games\"]) - 1)"
   ]
  },
  {
   "cell_type": "markdown",
   "id": "c4a071fd",
   "metadata": {},
   "source": [
    "## Do Stuff"
   ]
  },
  {
   "cell_type": "code",
   "execution_count": 9,
   "id": "687f2957",
   "metadata": {},
   "outputs": [],
   "source": [
    "for game in DATA[\"2020\"][\"games\"]:\n",
    "    game[\"bonus\"] = 0"
   ]
  },
  {
   "cell_type": "code",
   "execution_count": 107,
   "id": "4f81c0ce",
   "metadata": {},
   "outputs": [],
   "source": [
    "g = DATA[\"2021\"][\"games\"].pop(30)"
   ]
  },
  {
   "cell_type": "code",
   "execution_count": 109,
   "id": "69cbf887",
   "metadata": {},
   "outputs": [],
   "source": [
    "DATA[\"2021\"][\"games\"].insert(37, g)"
   ]
  },
  {
   "cell_type": "code",
   "execution_count": 108,
   "id": "4c965a70",
   "metadata": {},
   "outputs": [
    {
     "data": {
      "text/plain": [
       "{'name': 'Orange Bowl (Semi)',\n",
       " 'teams': ['Georgia', 'Michigan'],\n",
       " 'teams_short': ['UGA', 'UM'],\n",
       " 'date': [12, 31, 21],\n",
       " 'result': 0,\n",
       " 'score': [34, 11],\n",
       " 'bonus': 1}"
      ]
     },
     "execution_count": 108,
     "metadata": {},
     "output_type": "execute_result"
    }
   ],
   "source": [
    "g"
   ]
  },
  {
   "cell_type": "code",
   "execution_count": 110,
   "id": "f5840228",
   "metadata": {},
   "outputs": [
    {
     "name": "stdout",
     "output_type": "stream",
     "text": [
      "2021 games\n",
      "-----\n",
      "0: Bahamas Bowl\n",
      "1: Cure Bowl\n",
      "2: Boca Raton Bowl\n",
      "3: Celebration Bowl\n",
      "4: New Mexico Bowl\n",
      "5: Independence Bowl\n",
      "6: Lendingtree Bowl\n",
      "7: LA Bowl\n",
      "8: New Orleans Bowl\n",
      "9: Myrtle Beach Bowl\n",
      "10: Potato Bowl\n",
      "11: Frisco Bowl\n",
      "12: Armed Forces Bowl\n",
      "13: Frisco Football Classic\n",
      "14: Gasparilla Bowl\n",
      "15: Camelia Bowl\n",
      "16: Quick Lane Bowl\n",
      "17: Birmingham Bowl\n",
      "18: First Responder Bowl\n",
      "19: Liberty Bowl\n",
      "20: Guaranteed Rate Bowl\n",
      "21: Pinstripe Bowl\n",
      "22: Cheez-It Bowl\n",
      "23: Alamo Bowl\n",
      "24: Dukes Mayo Bowl\n",
      "25: Music City Bowl\n",
      "26: Peach Bowl\n",
      "27: Las Vegas Bowl\n",
      "28: Gator Bowl\n",
      "29: Sun Bowl\n",
      "30: Outback Bowl\n",
      "31: Fiesta Bowl\n",
      "32: Citrus Bowl\n",
      "33: Rose Bowl\n",
      "34: Sugar Bowl\n",
      "35: Texas Bowl\n",
      "36: Cotton Bowl (Semi)\n",
      "37: Orange Bowl (Semi)\n",
      "38: National Championship\n",
      "-----\n"
     ]
    }
   ],
   "source": [
    "print_games(\"2021\")"
   ]
  },
  {
   "cell_type": "code",
   "execution_count": 175,
   "id": "85dba97e",
   "metadata": {},
   "outputs": [],
   "source": [
    "DATA[\"2022\"][\"games\"][40][\"name\"] = \"Peach Bowl (Semi)\""
   ]
  },
  {
   "cell_type": "markdown",
   "id": "2fc33b7b",
   "metadata": {},
   "source": [
    "## Write to S3"
   ]
  },
  {
   "cell_type": "code",
   "execution_count": 111,
   "id": "0cc6e301",
   "metadata": {},
   "outputs": [
    {
     "data": {
      "text/plain": [
       "{'ResponseMetadata': {'RequestId': '3FEZH0RC911GPPH2',\n",
       "  'HostId': 'kKfQliP5zeVvajbEcg/ZQ3jcs6vFdQHMJsbDD0bWo7k49+4uoj8TNEmaxHDO6XWb0iPXB8LK054=',\n",
       "  'HTTPStatusCode': 200,\n",
       "  'HTTPHeaders': {'x-amz-id-2': 'kKfQliP5zeVvajbEcg/ZQ3jcs6vFdQHMJsbDD0bWo7k49+4uoj8TNEmaxHDO6XWb0iPXB8LK054=',\n",
       "   'x-amz-request-id': '3FEZH0RC911GPPH2',\n",
       "   'date': 'Wed, 07 Dec 2022 15:50:47 GMT',\n",
       "   'etag': '\"746fabce4e86d8c573aa59d7f8d00b41\"',\n",
       "   'server': 'AmazonS3',\n",
       "   'content-length': '0'},\n",
       "  'RetryAttempts': 0},\n",
       " 'ETag': '\"746fabce4e86d8c573aa59d7f8d00b41\"'}"
      ]
     },
     "execution_count": 111,
     "metadata": {},
     "output_type": "execute_result"
    }
   ],
   "source": [
    "s3.put_object(Body=bytes(json.dumps(DATA, indent=2).encode('UTF-8')), Bucket=obj_bucket, Key=obj_key)"
   ]
  }
 ],
 "metadata": {
  "kernelspec": {
   "display_name": "Python 3 (ipykernel)",
   "language": "python",
   "name": "python3"
  },
  "language_info": {
   "codemirror_mode": {
    "name": "ipython",
    "version": 3
   },
   "file_extension": ".py",
   "mimetype": "text/x-python",
   "name": "python",
   "nbconvert_exporter": "python",
   "pygments_lexer": "ipython3",
   "version": "3.8.14"
  }
 },
 "nbformat": 4,
 "nbformat_minor": 5
}
